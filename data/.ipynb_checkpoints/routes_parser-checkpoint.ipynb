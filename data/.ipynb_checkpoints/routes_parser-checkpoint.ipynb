{
 "cells": [
  {
   "cell_type": "code",
   "execution_count": 1,
   "metadata": {},
   "outputs": [],
   "source": [
    "import pandas as pd"
   ]
  },
  {
   "cell_type": "code",
   "execution_count": 2,
   "metadata": {},
   "outputs": [],
   "source": [
    "df = pd.read_csv(\"routes.txt\",header=0,names = [\"Airline\",\"Airline ID\",\"Source airport\",\"Source airport ID\", \n",
    "                                                \"Destination airport\",\"Destination airport ID\",\"Codeshare\", \"Stops\", \"Equipment\"])"
   ]
  },
  {
   "cell_type": "code",
   "execution_count": 3,
   "metadata": {},
   "outputs": [],
   "source": [
    "df.drop(['Codeshare','Equipment'], axis=1,inplace=True)"
   ]
  },
  {
   "cell_type": "code",
   "execution_count": null,
   "metadata": {},
   "outputs": [],
   "source": [
    "df = df.dropna(how = \"fail\")"
   ]
  },
  {
   "cell_type": "code",
   "execution_count": 4,
   "metadata": {},
   "outputs": [
    {
     "name": "stdout",
     "output_type": "stream",
     "text": [
      "      Airline Airline ID Source airport Source airport ID Destination airport  \\\n",
      "0          2B        410            ASF              2966                 KZN   \n",
      "1          2B        410            ASF              2966                 MRV   \n",
      "2          2B        410            CEK              2968                 KZN   \n",
      "3          2B        410            CEK              2968                 OVB   \n",
      "4          2B        410            DME              4029                 KZN   \n",
      "...       ...        ...            ...               ...                 ...   \n",
      "67657      ZL       4178            WYA              6334                 ADL   \n",
      "67658      ZM      19016            DME              4029                 FRU   \n",
      "67659      ZM      19016            FRU              2912                 DME   \n",
      "67660      ZM      19016            FRU              2912                 OSS   \n",
      "67661      ZM      19016            OSS              2913                 FRU   \n",
      "\n",
      "      Destination airport ID  Stops  \n",
      "0                       2990      0  \n",
      "1                       2962      0  \n",
      "2                       2990      0  \n",
      "3                       4078      0  \n",
      "4                       2990      0  \n",
      "...                      ...    ...  \n",
      "67657                   3341      0  \n",
      "67658                   2912      0  \n",
      "67659                   4029      0  \n",
      "67660                   2913      0  \n",
      "67661                   2912      0  \n",
      "\n",
      "[66764 rows x 7 columns] This is df\n"
     ]
    }
   ],
   "source": [
    "val = []\n",
    "count = 0\n",
    "for row in df.index:\n",
    "    #print(row, \"this is row\")\n",
    "    for element in range(len(df.iloc[row])):\n",
    "        x = str(df.iloc[row][element])\n",
    "        if (x == \"fail\"):\n",
    "            val.append(row)\n",
    "df = df.drop(index = val)\n",
    "print(df, \"This is df\")"
   ]
  },
  {
   "cell_type": "code",
   "execution_count": 5,
   "metadata": {},
   "outputs": [
    {
     "name": "stderr",
     "output_type": "stream",
     "text": [
      "IOPub data rate exceeded.\n",
      "The notebook server will temporarily stop sending output\n",
      "to the client in order to avoid crashing it.\n",
      "To change this limit, set the config variable\n",
      "`--NotebookApp.iopub_data_rate_limit`.\n",
      "\n",
      "Current values:\n",
      "NotebookApp.iopub_data_rate_limit=1000000.0 (bytes/sec)\n",
      "NotebookApp.rate_limit_window=3.0 (secs)\n",
      "\n"
     ]
    }
   ],
   "source": [
    "val = []\n",
    "count = 0\n",
    "count += 1\n",
    "for row in df.index:\n",
    "    insert = (count, str(df[\"Airline\"][row]), int(df[\"Airline ID\"][row]), str(df[\"Source airport\"][row]), int(df[\"Source airport ID\"][row]), \n",
    "             str(df[\"Destination airport\"][row]), int(df[\"Destination airport ID\"][row]), int(df[\"Stops\"][row]))\n",
    "    val.append(insert)\n",
    "print(val)"
   ]
  },
  {
   "cell_type": "code",
   "execution_count": 13,
   "metadata": {},
   "outputs": [],
   "source": [
    "df.to_csv(\"routes_parsed.csv\",index=False, header = False)"
   ]
  }
 ],
 "metadata": {
  "kernelspec": {
   "display_name": "Python 3",
   "language": "python",
   "name": "python3"
  },
  "language_info": {
   "codemirror_mode": {
    "name": "ipython",
    "version": 3
   },
   "file_extension": ".py",
   "mimetype": "text/x-python",
   "name": "python",
   "nbconvert_exporter": "python",
   "pygments_lexer": "ipython3",
   "version": "3.8.3"
  }
 },
 "nbformat": 4,
 "nbformat_minor": 4
}

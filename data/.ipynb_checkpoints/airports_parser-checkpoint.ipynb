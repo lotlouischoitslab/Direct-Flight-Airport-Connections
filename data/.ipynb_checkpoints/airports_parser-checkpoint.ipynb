{
 "cells": [
  {
   "cell_type": "code",
   "execution_count": 1,
   "metadata": {},
   "outputs": [],
   "source": [
    "import pandas as pd"
   ]
  },
  {
   "cell_type": "code",
   "execution_count": 2,
   "metadata": {},
   "outputs": [],
   "source": [
    "df = pd.read_csv(\"airports-extended.txt\",header=0,names = [\"Airport Index\",\"Airport Name\",\"City\",\"Location\",\"Airport\", \"Airline\",\"Airline ID\",\"Source airport\",\"Source airport ID\", \n",
    "                                                \"Destination airport\",\"Destination airport ID\",\"Codeshare\",\"Stops\",\"Equipment\"])"
   ]
  },
  {
   "cell_type": "code",
   "execution_count": 3,
   "metadata": {},
   "outputs": [],
   "source": [
    "df.drop(['Location','Airport', 'Airline',\"Codeshare\",\"Stops\",\"Equipment\", \"Destination airport\",\"Destination airport ID\", \"Source airport ID\", \"City\"], axis=1,inplace=True)"
   ]
  },
  {
   "cell_type": "code",
   "execution_count": 4,
   "metadata": {},
   "outputs": [],
   "source": [
    "df.to_csv(\"airports_parsed.csv\",index=False, header = False)"
   ]
  },
  {
   "cell_type": "code",
   "execution_count": null,
   "metadata": {},
   "outputs": [],
   "source": []
  }
 ],
 "metadata": {
  "kernelspec": {
   "display_name": "Python 3",
   "language": "python",
   "name": "python3"
  },
  "language_info": {
   "codemirror_mode": {
    "name": "ipython",
    "version": 3
   },
   "file_extension": ".py",
   "mimetype": "text/x-python",
   "name": "python",
   "nbconvert_exporter": "python",
   "pygments_lexer": "ipython3",
   "version": "3.8.3"
  }
 },
 "nbformat": 4,
 "nbformat_minor": 4
}

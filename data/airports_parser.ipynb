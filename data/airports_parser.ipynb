{
 "cells": [
  {
   "cell_type": "code",
   "execution_count": 1,
   "metadata": {},
   "outputs": [],
   "source": [
    "import pandas as pd"
   ]
  },
  {
   "cell_type": "code",
   "execution_count": 2,
   "metadata": {},
   "outputs": [],
   "source": [
    "df = pd.read_csv(\"airports.txt\",header=0,names = [\"Airport Index\",\"Airport Name\",\"City\",\"Country\",\"IATA\", \"ICAO\",\"Latitude\",\"Longitude\",\"Altitude\", \n",
    "                                                \"Timezone\",\"DST\",\"TZ Database time zone\",\"Type\",\"Source\"])"
   ]
  },
  {
   "cell_type": "code",
   "execution_count": 3,
   "metadata": {},
   "outputs": [
    {
     "name": "stdout",
     "output_type": "stream",
     "text": [
      "Airport Index                               2\n",
      "Airport Name                   Madang Airport\n",
      "City                                   Madang\n",
      "Country                      Papua New Guinea\n",
      "IATA                                      MAG\n",
      "ICAO                                     AYMD\n",
      "Latitude                             -5.20708\n",
      "Longitude                             145.789\n",
      "Altitude                                   20\n",
      "Timezone                                   10\n",
      "DST                                         U\n",
      "TZ Database time zone    Pacific/Port_Moresby\n",
      "Type                                  airport\n",
      "Source                            OurAirports\n",
      "Name: 0, dtype: object This is the first row\n",
      "Airport Index                                       3\n",
      "Airport Name             Mount Hagen Kagamuga Airport\n",
      "City                                      Mount Hagen\n",
      "Country                              Papua New Guinea\n",
      "IATA                                              HGU\n",
      "ICAO                                             AYMH\n",
      "Latitude                                     -5.82679\n",
      "Longitude                                     144.296\n",
      "Altitude                                         5388\n",
      "Timezone                                           10\n",
      "DST                                                 U\n",
      "TZ Database time zone            Pacific/Port_Moresby\n",
      "Type                                          airport\n",
      "Source                                    OurAirports\n",
      "Name: 1, dtype: object This is the first row\n"
     ]
    }
   ],
   "source": [
    "#print(df.columns)\n",
    "print(df.iloc[0], \"This is the first row\")\n",
    "print(df.iloc[1], \"This is the first row\")"
   ]
  },
  {
   "cell_type": "code",
   "execution_count": 4,
   "metadata": {},
   "outputs": [],
   "source": [
    "df.drop([\"Latitude\",\"Longitude\", \"Altitude\", \"Source\", \"Type\"], axis=1,inplace=True)"
   ]
  },
  {
   "cell_type": "code",
   "execution_count": 48,
   "metadata": {},
   "outputs": [
    {
     "name": "stdout",
     "output_type": "stream",
     "text": [
      "(1, 'Goroka Airport', 'Goroka', 'Papua New Guinea', 'GKA', 'AYGA', '10', 'U', 'Pacific/Port_Moresby') 9\n",
      "(2, 'Madang Airport', 'Madang', 'Papua New Guinea', 'MAG', 'AYMD', '10', 'U', 'Pacific/Port_Moresby') 9\n"
     ]
    }
   ],
   "source": [
    "val = [(1,\"Goroka Airport\",\"Goroka\",\"Papua New Guinea\",\"GKA\",\"AYGA\", \"10\" ,\"U\",\"Pacific/Port_Moresby\")]\n",
    "count = 0\n",
    "for row in df.index:\n",
    "    insert = (int(df[\"Airport Index\"][row]), str(df[\"Airport Name\"][row]), str(df[\"City\"][row]), str(df[\"Country\"][row]), \n",
    "             str(df[\"IATA\"][row]), str(df[\"ICAO\"][row]), str(df[\"Timezone\"][row]), str(df[\"DST\"][row]), str(df[\"TZ Database time zone\"][row]))\n",
    "    val.append(insert)\n",
    "    count += 1\n",
    "    \n",
    "print(val[0], len(val[0]))\n",
    "print(val[1], len(val[1]))\n"
   ]
  },
  {
   "cell_type": "code",
   "execution_count": 43,
   "metadata": {},
   "outputs": [],
   "source": [
    "import mysql.connector"
   ]
  },
  {
   "cell_type": "code",
   "execution_count": 44,
   "metadata": {},
   "outputs": [],
   "source": [
    "import mysql.connector\n",
    "mydb = mysql.connector.connect(\n",
    "  host=\"localhost\",\n",
    "  user=\"root\",\n",
    "  password=\"Risha1234$\",\n",
    "  database=\"CS411DB\"\n",
    ")"
   ]
  },
  {
   "cell_type": "code",
   "execution_count": 47,
   "metadata": {},
   "outputs": [],
   "source": [
    "mydb.close()"
   ]
  },
  {
   "cell_type": "code",
   "execution_count": 45,
   "metadata": {},
   "outputs": [
    {
     "name": "stdout",
     "output_type": "stream",
     "text": [
      "7698 was inserted.\n"
     ]
    }
   ],
   "source": [
    "mycursor = mydb.cursor()\n",
    "\n",
    "sql = \"INSERT INTO CS411DB.Airports (AirportID, Name, City, Country, IATA, ICAO, TimeZone, DST, TZ) VALUES (%s, %s, %s, %s, %s, %s, %s, %s, %s)\"\n",
    "\n",
    "mycursor.executemany(sql, val)\n",
    "\n",
    "mydb.commit()\n",
    "\n",
    "print(mycursor.rowcount, \"was inserted.\")\n",
    "mydb.close()"
   ]
  },
  {
   "cell_type": "code",
   "execution_count": null,
   "metadata": {},
   "outputs": [],
   "source": []
  }
 ],
 "metadata": {
  "kernelspec": {
   "display_name": "Python 3",
   "language": "python",
   "name": "python3"
  },
  "language_info": {
   "codemirror_mode": {
    "name": "ipython",
    "version": 3
   },
   "file_extension": ".py",
   "mimetype": "text/x-python",
   "name": "python",
   "nbconvert_exporter": "python",
   "pygments_lexer": "ipython3",
   "version": "3.8.3"
  }
 },
 "nbformat": 4,
 "nbformat_minor": 4
}
